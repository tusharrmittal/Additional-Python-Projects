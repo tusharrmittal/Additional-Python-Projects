{
 "cells": [
  {
   "cell_type": "code",
   "execution_count": 26,
   "id": "de2a4280",
   "metadata": {},
   "outputs": [],
   "source": [
    "import os, shutil"
   ]
  },
  {
   "cell_type": "code",
   "execution_count": 27,
   "id": "f40607f9",
   "metadata": {},
   "outputs": [],
   "source": [
    "path = r\"C:\\Users\\TUSHAR\\Documents\\File Sorter Project\\\\\""
   ]
  },
  {
   "cell_type": "code",
   "execution_count": 28,
   "id": "6ef1b2f5",
   "metadata": {},
   "outputs": [],
   "source": [
    "file_name = os.listdir(path)"
   ]
  },
  {
   "cell_type": "code",
   "execution_count": 29,
   "id": "bfd7f389",
   "metadata": {},
   "outputs": [
    {
     "data": {
      "text/plain": [
       "False"
      ]
     },
     "execution_count": 29,
     "metadata": {},
     "output_type": "execute_result"
    }
   ],
   "source": [
    "os.path.exists(path + \"excel.files\")"
   ]
  },
  {
   "cell_type": "code",
   "execution_count": 30,
   "id": "12ea3f3d",
   "metadata": {},
   "outputs": [
    {
     "name": "stdout",
     "output_type": "stream",
     "text": [
      "C:\\Users\\TUSHAR\\Documents\\File Sorter Project\\\\excel files\n",
      "C:\\Users\\TUSHAR\\Documents\\File Sorter Project\\\\pdf files\n",
      "C:\\Users\\TUSHAR\\Documents\\File Sorter Project\\\\docx files\n"
     ]
    }
   ],
   "source": [
    "folder_name = ['excel files', 'pdf files', 'docx files']\n",
    "\n",
    "for loop in range(0,3):\n",
    "    if not os.path.exists(path + folder_name[loop]):\n",
    "        print(path + folder_name[loop])\n",
    "        os.makedirs(path+ folder_name[loop])\n",
    "        \n",
    "for file in file_name:\n",
    "    if \".xlsx\" in file and not os.path.exists(path + \"excel files\\\\\" + file):\n",
    "        shutil.move(path+file, path+ \"excel files\\\\\" + file)\n",
    "    elif \".pdf\" in file and not os.path.exists(path + \"pdf files\\\\\" + file):\n",
    "        shutil.move(path+file, path+ \"pdf files\\\\\" + file)\n",
    "    elif \".docx\" in file and not os.path.exists(path + \"docx files\\\\ \" + file):\n",
    "        shutil.move(path+file, path+ \"docx files\\\\\" + file)\n",
    "       "
   ]
  },
  {
   "cell_type": "code",
   "execution_count": null,
   "id": "6ae7e9f3",
   "metadata": {},
   "outputs": [],
   "source": [
    "# Now you can create a times on this like after every 30 min or day or whenever you want it'll automatically execute this \n",
    "# function again. Times + automatic execution in the background. Alex, taught this may be in the web scraping project so \n",
    "# we'll learn from there and get back here asap."
   ]
  },
  {
   "cell_type": "code",
   "execution_count": 17,
   "id": "6d799be2",
   "metadata": {},
   "outputs": [
    {
     "data": {
      "text/plain": [
       "['docx files',\n",
       " 'excel files',\n",
       " 'Fee Structure.xlsx',\n",
       " 'pdf files',\n",
       " \"Prateek's B.com 3rd.pdf\",\n",
       " 'Shot 2.docx']"
      ]
     },
     "execution_count": 17,
     "metadata": {},
     "output_type": "execute_result"
    }
   ],
   "source": [
    "os.listdir(path)"
   ]
  },
  {
   "cell_type": "code",
   "execution_count": null,
   "id": "5c78067b",
   "metadata": {},
   "outputs": [],
   "source": []
  },
  {
   "cell_type": "code",
   "execution_count": null,
   "id": "bcb007bb",
   "metadata": {},
   "outputs": [],
   "source": []
  },
  {
   "cell_type": "code",
   "execution_count": null,
   "id": "5c6529f4",
   "metadata": {},
   "outputs": [],
   "source": []
  },
  {
   "cell_type": "code",
   "execution_count": null,
   "id": "9254ce2d",
   "metadata": {},
   "outputs": [],
   "source": []
  },
  {
   "cell_type": "code",
   "execution_count": null,
   "id": "0102311a",
   "metadata": {},
   "outputs": [],
   "source": []
  },
  {
   "cell_type": "code",
   "execution_count": null,
   "id": "145ad3e8",
   "metadata": {},
   "outputs": [],
   "source": []
  },
  {
   "cell_type": "code",
   "execution_count": null,
   "id": "8cc18231",
   "metadata": {},
   "outputs": [],
   "source": []
  },
  {
   "cell_type": "code",
   "execution_count": null,
   "id": "9c93e3bd",
   "metadata": {},
   "outputs": [],
   "source": []
  },
  {
   "cell_type": "code",
   "execution_count": null,
   "id": "5b77cbc8",
   "metadata": {},
   "outputs": [],
   "source": []
  },
  {
   "cell_type": "code",
   "execution_count": null,
   "id": "f01ead4b",
   "metadata": {},
   "outputs": [],
   "source": []
  },
  {
   "cell_type": "code",
   "execution_count": null,
   "id": "dd70b3bd",
   "metadata": {},
   "outputs": [],
   "source": []
  },
  {
   "cell_type": "code",
   "execution_count": null,
   "id": "03357f54",
   "metadata": {},
   "outputs": [],
   "source": []
  },
  {
   "cell_type": "code",
   "execution_count": null,
   "id": "63c85576",
   "metadata": {},
   "outputs": [],
   "source": []
  },
  {
   "cell_type": "code",
   "execution_count": null,
   "id": "6386f766",
   "metadata": {},
   "outputs": [],
   "source": []
  },
  {
   "cell_type": "code",
   "execution_count": null,
   "id": "f002f363",
   "metadata": {},
   "outputs": [],
   "source": []
  }
 ],
 "metadata": {
  "kernelspec": {
   "display_name": "Python 3 (ipykernel)",
   "language": "python",
   "name": "python3"
  },
  "language_info": {
   "codemirror_mode": {
    "name": "ipython",
    "version": 3
   },
   "file_extension": ".py",
   "mimetype": "text/x-python",
   "name": "python",
   "nbconvert_exporter": "python",
   "pygments_lexer": "ipython3",
   "version": "3.11.5"
  }
 },
 "nbformat": 4,
 "nbformat_minor": 5
}
