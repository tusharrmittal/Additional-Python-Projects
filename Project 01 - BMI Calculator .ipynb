{
 "cells": [
  {
   "cell_type": "code",
   "execution_count": 1,
   "id": "aa62a954",
   "metadata": {},
   "outputs": [],
   "source": [
    "# Project_BMI_Calc:-"
   ]
  },
  {
   "cell_type": "code",
   "execution_count": 2,
   "id": "eed09656",
   "metadata": {},
   "outputs": [],
   "source": [
    "# Under 18.5 - Classification(Underweight), Health Risk(Minimal)\n",
    "# 18.5 - 24.9 - Normal Weight - Minimal\n",
    "# 25 - 29.9 - Overweight - Increased\n",
    "# 30 - 34.9 - Obese - High\n",
    "# 35 - 39.9 - Severely Obese - Very High\n",
    "# 40 and Over - Morbidly Obese - Extremely High Classification Health Risk"
   ]
  },
  {
   "cell_type": "code",
   "execution_count": 3,
   "id": "6eee8ce0",
   "metadata": {},
   "outputs": [],
   "source": [
    "# BMI = (weight) / (height * height)"
   ]
  },
  {
   "cell_type": "code",
   "execution_count": 4,
   "id": "a039913f",
   "metadata": {},
   "outputs": [
    {
     "name": "stdout",
     "output_type": "stream",
     "text": [
      "Enter you name: Tushar Mittal\n",
      "Enter your weight(in kg): 72\n",
      "Enter your height(in cm): 180\n",
      "Tushar Mittal , Your BMI is :  22.22222222222222\n",
      "Classification - Normal Weight, Health Risk - Minimal\n",
      "Compliment - You're good. Keep it up and Stay healty, Stay fit.\n"
     ]
    }
   ],
   "source": [
    "name = input('Enter you name: ')\n",
    "weight = int(input(\"Enter your weight(in kg): \"))\n",
    "height = int(input(\"Enter your height(in cm): \"))\n",
    "\n",
    "BMI = (weight)/((height/100)*(height/100))\n",
    "\n",
    "print(name,',',\"Your BMI is : \", BMI)\n",
    "\n",
    "if BMI > 0:\n",
    "    if BMI < 18.5:\n",
    "         print('Classification - Underweight, Health Risk - Minimal')\n",
    "    elif BMI < 24.9:\n",
    "        print('Classification - Normal Weight, Health Risk - Minimal')\n",
    "    elif BMI < 29.9:\n",
    "        print(' Classification - Overweight, Health Risk - Increased')\n",
    "    elif BMI < 34.9:\n",
    "        print(' Classification - Obese, Health Risk - High')\n",
    "    elif BMI < 39.9:\n",
    "        print('Classification - Severely Obese, Health Risk - Very High')\n",
    "    else:\n",
    "        print('Classification - Morbidly Obese, Health Risk - Extremely High')\n",
    "        \n",
    "if BMI > 0:\n",
    "    if BMI < 18.5:\n",
    "         print('Tip - You Should have a strong diet and protein.')\n",
    "    elif BMI < 24.9:\n",
    "        print(\"Compliment - You're good. Keep it up and Stay healty, Stay fit.\")\n",
    "    elif BMI < 29.9:\n",
    "        print('Tip - You can still control your health. Keep Exercising and Take a healty and less diet')\n",
    "    elif BMI < 34.9:\n",
    "        print('Tip - You really need a fitness trainer asap. Go and Put the hard work.')\n",
    "    elif BMI < 39.9:\n",
    "        print(\"Tip - You need to me mentally prepared first if you're really serious about your health. Get the fitness  trainer and start working out as per the plan.\")\n",
    "    else:\n",
    "         print(\"Tip - You might need a Surgery. But Go get a fitness trainer first and ask for advice and follow it.\")\n",
    "   "
   ]
  },
  {
   "cell_type": "code",
   "execution_count": null,
   "id": "8cfe4456",
   "metadata": {},
   "outputs": [],
   "source": []
  },
  {
   "cell_type": "code",
   "execution_count": null,
   "id": "3c5b86ab",
   "metadata": {},
   "outputs": [],
   "source": []
  },
  {
   "cell_type": "code",
   "execution_count": null,
   "id": "a305d750",
   "metadata": {},
   "outputs": [],
   "source": []
  },
  {
   "cell_type": "code",
   "execution_count": null,
   "id": "09c5f6ae",
   "metadata": {},
   "outputs": [],
   "source": []
  },
  {
   "cell_type": "code",
   "execution_count": null,
   "id": "de701b0f",
   "metadata": {},
   "outputs": [],
   "source": []
  },
  {
   "cell_type": "code",
   "execution_count": null,
   "id": "1d7c237c",
   "metadata": {},
   "outputs": [],
   "source": []
  },
  {
   "cell_type": "code",
   "execution_count": null,
   "id": "27b4e0a8",
   "metadata": {},
   "outputs": [],
   "source": []
  },
  {
   "cell_type": "code",
   "execution_count": null,
   "id": "23ddf5e4",
   "metadata": {},
   "outputs": [],
   "source": []
  },
  {
   "cell_type": "code",
   "execution_count": null,
   "id": "a22cc5bd",
   "metadata": {},
   "outputs": [],
   "source": []
  },
  {
   "cell_type": "code",
   "execution_count": null,
   "id": "f4a7beaa",
   "metadata": {},
   "outputs": [],
   "source": []
  },
  {
   "cell_type": "code",
   "execution_count": null,
   "id": "bc3f0e43",
   "metadata": {},
   "outputs": [],
   "source": []
  },
  {
   "cell_type": "code",
   "execution_count": null,
   "id": "06afcd6a",
   "metadata": {},
   "outputs": [],
   "source": []
  },
  {
   "cell_type": "code",
   "execution_count": null,
   "id": "150dcbc2",
   "metadata": {},
   "outputs": [],
   "source": []
  },
  {
   "cell_type": "code",
   "execution_count": null,
   "id": "85bfcd8d",
   "metadata": {},
   "outputs": [],
   "source": []
  },
  {
   "cell_type": "code",
   "execution_count": null,
   "id": "32d8779d",
   "metadata": {},
   "outputs": [],
   "source": []
  },
  {
   "cell_type": "code",
   "execution_count": null,
   "id": "3aa97ce1",
   "metadata": {},
   "outputs": [],
   "source": []
  },
  {
   "cell_type": "code",
   "execution_count": null,
   "id": "92ccb764",
   "metadata": {},
   "outputs": [],
   "source": []
  },
  {
   "cell_type": "code",
   "execution_count": null,
   "id": "56a1b62d",
   "metadata": {},
   "outputs": [],
   "source": []
  },
  {
   "cell_type": "code",
   "execution_count": null,
   "id": "590f49ed",
   "metadata": {},
   "outputs": [],
   "source": []
  }
 ],
 "metadata": {
  "kernelspec": {
   "display_name": "Python 3 (ipykernel)",
   "language": "python",
   "name": "python3"
  },
  "language_info": {
   "codemirror_mode": {
    "name": "ipython",
    "version": 3
   },
   "file_extension": ".py",
   "mimetype": "text/x-python",
   "name": "python",
   "nbconvert_exporter": "python",
   "pygments_lexer": "ipython3",
   "version": "3.11.5"
  }
 },
 "nbformat": 4,
 "nbformat_minor": 5
}
